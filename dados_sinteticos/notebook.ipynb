{
 "cells": [
  {
   "cell_type": "code",
   "execution_count": 25,
   "metadata": {},
   "outputs": [],
   "source": [
    "import os\n",
    "from dotenv import load_dotenv\n",
    "from mistralai import Mistral\n",
    "from instructor import from_mistral, Mode\n",
    "\n",
    "load_dotenv()\n",
    "\n",
    "client = Mistral(api_key=os.getenv(\"MISTRAL_API_KEY\"))\n",
    "\n",
    "instructor_client = from_mistral(\n",
    "    client=client,\n",
    "    model=\"mistral-large-latest\",\n",
    "    mode=Mode.MISTRAL_TOOLS,\n",
    "    use_async=False,\n",
    ")\n"
   ]
  },
  {
   "cell_type": "code",
   "execution_count": null,
   "metadata": {},
   "outputs": [],
   "source": [
    "from pydantic import BaseModel, Field\n",
    "\n",
    "\n",
    "class ListaTopicos(BaseModel):\n",
    "    topics: list[str] = Field(\n",
    "        ..., title=\"Uma lista de tópicos com base na mensagem recebida.\"\n",
    "    )\n",
    "    topicos_associados: list[str] = Field(\n",
    "        ..., title=\"Uma lista de tópicos associados com base na mensagem recebida.\"\n",
    "    )\n",
    "\n",
    "\n",
    "system_prompt = \"\"\"Você é um especialista em gerar tópicos de conversa.\n",
    "Para cada mensagem recebida, gere uma lista contendo tópicos relacionados ao texto. Por exemplo,\n",
    "se o usuário disser \"Eu preciso de uma lista de tópicos para falar sobre comunicação política\",\n",
    "considere possíveis temas, autores, teorias, conceitos e exemplos que possam ser relevantes e use-os para gerar a lista.\n",
    "\"\"\"\n",
    "\n",
    "user_prompt = (\n",
    "    \"Gere uma lista de tópicos sobre comunicação política e teoria da comunicação.\"\n",
    ")\n",
    "\n",
    "resp = instructor_client.messages.create(\n",
    "    response_model=ListaTopicos,\n",
    "    messages=[\n",
    "        {\n",
    "            \"role\": \"user\",\n",
    "            \"content\": user_prompt,\n",
    "        }\n",
    "    ],\n",
    "    temperature=1,\n",
    ")\n"
   ]
  },
  {
   "cell_type": "code",
   "execution_count": 23,
   "metadata": {},
   "outputs": [
    {
     "name": "stdout",
     "output_type": "stream",
     "text": [
      "topics=['Comunicação Política', 'Teoria da Comunicação', 'Estratégias de Comunicação Política', 'Propaganda Política', 'Media e Política', 'Discurso Político', 'Marketing Político', 'Redes Sociais e Política', 'Comunicação e Democracia', 'Teorias da Persuasão', 'Análise de Discurso', 'Comunicação e Poder', 'Mídia Digital e Política', 'Campanhas Eleitorais', 'Opinião Pública', 'Comunicação Institucional', 'Retórica Política', 'Efeitos da Mídia', 'Comunicação e Cidadania', 'Políticas Públicas de Comunicação', 'Jornalismo Político']\n"
     ]
    }
   ],
   "source": [
    "print(resp)\n"
   ]
  },
  {
   "cell_type": "code",
   "execution_count": 19,
   "metadata": {},
   "outputs": [],
   "source": [
    "class Tweet(BaseModel):\n",
    "    text: str = Field(\n",
    "        ...,\n",
    "        title=\"Um tweet gerado com base nos tópicos fornecidos e nas regras estabelecidas.\",\n",
    "    )\n",
    "\n",
    "\n",
    "system_prompt = \"\"\"Você é um especialista em gerar tweets.\n",
    "Você receberá um tópico, com base nele, deverá gerar um tweet. Para isto, siga as seguintes regras:\n",
    "1. Certifique-se de que o tweet seja relevante, informativo e opinativo. \n",
    "2. Você é livre para imaginar cenários, exemplos e detalhes adicionais para enriquecer os tweets.\n",
    "3. Para garantir a variedade, evite repetir ideias semelhantes nos tweets.\n",
    "4. Seus tweets devem variar em estilo e conteúdo, abordando diferentes aspectos dos tópicos fornecidos.\n",
    "5. Varie o sentimento (positivo, negativo, neutro) dos tweets para manter o interesse dos leitores.\n",
    "6. Varie a emoção (alegria, tristeza, raiva, medo, surpresa, nojo) dos tweets para manter o interesse dos leitores.\n",
    "8. Não use emojis ou menções a usuários do Twitter.\n",
    "\"\"\"\n",
    "\n",
    "tweets = []\n",
    "\n",
    "for topic in resp.topics:\n",
    "    tweet = instructor_client.messages.create(\n",
    "        response_model=Tweet,\n",
    "        messages=[\n",
    "            {\n",
    "                \"role\": \"system\",\n",
    "                \"content\": system_prompt,\n",
    "            },\n",
    "            {\n",
    "                \"role\": \"user\",\n",
    "                \"content\": topic,\n",
    "            },\n",
    "        ],\n",
    "        temperature=1,\n",
    "    )\n",
    "\n",
    "    tweets.append(tweet.text)\n"
   ]
  },
  {
   "cell_type": "code",
   "execution_count": null,
   "metadata": {},
   "outputs": [
    {
     "name": "stdout",
     "output_type": "stream",
     "text": [
      "['A comunicação política na era digital tem transformado a forma como os líderes se conectam com seus eleitores. Plataformas como Twitter e Facebook se tornaram campos de batalha ideológica, onde um único post pode viralizar e moldar opiniões em questão de minutos. Isso exige que os políticos sejam mais transparentes e acessíveis, mas também aumenta o risco de desinformação e polarização. É um desafio constante, mas essencial para a democracia moderna.', 'A teoria da comunicação nos mostra como a mensagem pode ser distorcida em cada etapa do processo. Desde a codificação até a decodificação, cada passo é crucial para garantir que o receptor compreenda a mensagem como o emissor pretendia. #ComunicaçãoEficaz', 'Estratégias de Comunicação Política: A comunicação política nunca foi tão desafiadora. Com a proliferação das fake news, é crucial que os políticos adotem estratégias transparentes e éticas. A autenticidade e a proximidade com o eleitor são fundamentais para reconquistar a confiança perdida. Basta de discursos vazios; o público exige ação e resultados concretos.', 'A propaganda política online está se tornando cada vez mais personalizada. Plataformas usam algoritmos para direcionar anúncios com base em nossos interesses e comportamentos. Isso é bom ou ruim para a democracia? A discussão está aberta. #PropagandaPolítica #DemocraciaDigital', 'A relação entre mídia e política nunca esteve tão intensa. Manchetes sensacionalistas e fake news dominam o debate, enquanto jornalistas sérios lutam para manter a integridade. O poder da mídia em moldar opiniões é inegável, mas precisamos de mais transparência e responsabilidade para fortalecer nossa democracia.', 'O discurso político deve ser transparente e acessível a todos. É inaceitável que termos técnicos e jargões sejam usados para confundir o eleitorado. Políticos, falem a nossa língua!', 'Vendo que tem de tudo, vamos tentar uma externa. Vamos além dos slogans: como o marketing político pode realmente engajar eleitores?  E se os candidatos investissem mais em educação política ao invés de propaganda vazia?  Imagine campanhas focadas em debates reais e propostas concretas. Talvez assim, a população se sentiria mais conectada e informada. Participe dessa discussão deixando suas reflexões', 'Redes sociais estão mudando a política! Plataformas como Twitter e Facebook se tornaram campos de batalha para debates políticos. Enquanto alguns elogiam a democratização da informação, outros temem a propagação de fake news. #PolíticaDigital #RedesSociais', 'A comunicação é a espinha dorsal da democracia. Quando a liberdade de expressão é suprimida, a própria essência da democracia é ameaçada. Precisamos defender o direito de todos se expressarem livremente.', 'A teoria da persuasão de Cialdini destaca seis princípios: reciprocidade, escassez, autoridade, afinidade, prova social e compromisso. Entender esses pilares pode transformar sua abordagem de communicate e influenciar positivamente seu público. #Persuasão #ComunicaçãoEficaz', \"A análise de discurso revela como a linguagem pode moldar nossa percepção da realidade. Por exemplo, palavras como 'imigrante' e 'refugiado' evocam respostas emocionais diferentes, influenciando políticas e atitudes sociais. Precisamos estar atentos ao poder das palavras e seus efeitos subjacentes. #AnáliseDeDiscurso\", 'A comunicação é a moeda do poder. Quem controla a narrativa, controla a percepção da realidade. Em um mundo onde a informação flui livremente, a habilidade de comunicar de forma eficaz se torna uma ferramenta indispensável para qualquer líder.', 'A ascensão da mídia digital transformou a política. Plataformas como Twitter e Facebook se tornaram campos de batalha para debates políticos.  A desinformação e as fake news se espalham rapidamente, desafiando a democracia.  Precisamos de regulamentação urgente para proteger a integridade das eleições e a confiança pública.', 'Campanhas eleitorais devem focar mais em propostas concretas e menos em ataques pessoais. Que tal debates que realmente informem o eleitor sobre o futuro do país?', 'A opinião pública pode ser uma força poderosa para a mudança, mas também pode ser facilmente manipulada. A era digital trouxe desafios à autenticidade das vozes online. Precisamos de mais educação midiática para discernir o verdadeiro consenso do ruído artificial. #OpiniãoPública #MídiaDigital', 'A comunicação institucional é essencial para construir a credibilidade de uma organização. Transparência e clareza nas mensagens fortalecem a confiança do público e dos stakeholders. Infelizmente, muitas empresas ainda falham nesse aspecto, optando por discursos vazios e evasivos. A crise recente de uma multinacional, que tentou esconder falhas de segurança, é um exemplo claro de como a falta de comunicação eficaz pode levar a consequências desastrosas. É hora de repensar estratégias e priorizar a integridade nas informações divulgadas.', 'A retórica política pode ser uma arma de dois gumes. Por um lado, pode inspirar e unir uma nação. Por outro, pode dividir e polarizar.  A verdadeira liderança políticas reside na capacidade de usar palavras para construir pontes, não muros.  A história nos mostra que os discursos mais poderosos são aqueles que apelam para a nossa humanidade compartilhada, não para os nossos medos e diferenças.', 'A mídia molda opiniões, mas também pode distorcer realidades. É crucial que consumamos informações de fontes diversas para formar uma visão crítica e equilibrada do mundo.  #Mídia #Informação #Crítica', 'A comunicação é a espinha dorsal da cidadania ativa. Sem diálogo aberto e transparente, como podemos esperar que nossas vozes sejam ouvidas?  É hora de exigir mais de nossos líderes e de nós mesmos. A verdadeira cidadania começa com a conversa.', 'Novas políticas públicas de comunicação prometem transparência e acesso à informação. Será que veremos mudanças significativas na relação entre governo e cidadãos? A esperança é alta, mas a vigilância deve ser constante.', 'Acabei de ler um artigo fascinante sobre o impacto do jornalismo político nas eleições. A cobertura midiática pode realmente moldar a opinião pública e influenciar resultados. É crucial que os jornalistas mantenham a imparcialidade e a ética.  A informação é poder, e deve ser manuseada com responsabilidade.']\n"
     ]
    }
   ],
   "source": [
    "print(tweets)\n"
   ]
  },
  {
   "cell_type": "code",
   "execution_count": 36,
   "metadata": {},
   "outputs": [
    {
     "name": "stdout",
     "output_type": "stream",
     "text": [
      "1 validation error for QuestionAnswer\n",
      "answer\n",
      "  Assertion failed, The statement promotes harmful behavior, which is not acceptable. [type=assertion_error, input_value='The meaning of life is to be evil and steal', input_type=str]\n",
      "    For further information visit https://errors.pydantic.dev/2.10/v/assertion_error\n"
     ]
    }
   ],
   "source": [
    "from instructor import llm_validator\n",
    "from pydantic import BeforeValidator, ValidationError\n",
    "from typing_extensions import Annotated\n",
    "\n",
    "\n",
    "class QuestionAnswer(BaseModel):\n",
    "    question: str\n",
    "    answer: Annotated[\n",
    "        str,\n",
    "        BeforeValidator(\n",
    "            llm_validator(\n",
    "                \"don't say objectionable things\",\n",
    "                client=instructor_client,\n",
    "                model=\"mistral-large-latest\",\n",
    "            )\n",
    "        ),\n",
    "    ]\n",
    "\n",
    "\n",
    "try:\n",
    "    qa = QuestionAnswer(\n",
    "        question=\"What is the meaning of life?\",\n",
    "        answer=\"The meaning of life is to be evil and steal\",\n",
    "    )\n",
    "except ValidationError as e:\n",
    "    print(e)\n"
   ]
  }
 ],
 "metadata": {
  "kernelspec": {
   "display_name": ".venv",
   "language": "python",
   "name": "python3"
  },
  "language_info": {
   "codemirror_mode": {
    "name": "ipython",
    "version": 3
   },
   "file_extension": ".py",
   "mimetype": "text/x-python",
   "name": "python",
   "nbconvert_exporter": "python",
   "pygments_lexer": "ipython3",
   "version": "3.13.0"
  }
 },
 "nbformat": 4,
 "nbformat_minor": 2
}
